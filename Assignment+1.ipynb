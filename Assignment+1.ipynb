{
 "cells": [
  {
   "cell_type": "markdown",
   "metadata": {},
   "source": [
    "# Assignment 1 - Probability, Linear Algebra, Programming, and Git\n",
    "\n",
    "## *Zhuangdie Alan Zhou*\n",
    "Netid:  *zz161*"
   ]
  },
  {
   "cell_type": "markdown",
   "metadata": {},
   "source": [
    "# Probability and Statistics Theory"
   ]
  },
  {
   "cell_type": "markdown",
   "metadata": {
    "collapsed": true
   },
   "source": [
    "## 1\n",
    "Let $f(x) = \\begin{cases}\n",
    "                0           & x < 0  \\\\\n",
    "                \\alpha x^2  & 0 \\leq x \\leq 2 \\\\\n",
    "                0           & 2 < x\n",
    "            \\end{cases}$\n",
    "            \n",
    "For what value of $\\alpha$ is $f(x)$ a valid probability density function?\n",
    "\n",
    "*Note: for all assignments, write out all equations and math for all assignments using markdown and [LaTeX](https://tobi.oetiker.ch/lshort/lshort.pdf) and show all work*"
   ]
  },
  {
   "cell_type": "markdown",
   "metadata": {},
   "source": [
    "**ANSWER**\n",
    "\n",
    "$\\int_{0}^{2}\\alpha x^2 \\mathrm{d}x=1$\n",
    "\n",
    "$\\alpha = \\frac{3}{8}$\n"
   ]
  },
  {
   "cell_type": "code",
   "execution_count": 292,
   "metadata": {
    "collapsed": false
   },
   "outputs": [
    {
     "name": "stdout",
     "output_type": "stream",
     "text": [
      "f(x) is a valid probability density function when α is 3/8\n"
     ]
    }
   ],
   "source": [
    "print('f(x) is a valid probability density function when \\u03B1 is 3/8')"
   ]
  },
  {
   "cell_type": "markdown",
   "metadata": {},
   "source": [
    "## 2\n",
    "What is the cumulative distribution function (CDF) that corresponds to the following probability distribution function? Please state the value of the CDF for all possible values of $x$.\n",
    "\n",
    "$f(x) = \\begin{cases}\n",
    "    \\frac{1}{3} & 0 < x < 3 \\\\\n",
    "    0           & \\text{otherwise}\n",
    "    \\end{cases}$"
   ]
  },
  {
   "cell_type": "markdown",
   "metadata": {},
   "source": [
    "**ANSWER**\n",
    "\n",
    "$CDF = \\begin{cases}\n",
    "        0 & x<0\\\\\n",
    "        \\frac{x}{3} & 0\\leqslant x \\leqslant3\\\\\n",
    "        1 & x>3\n",
    "        \\end{cases}$\n"
   ]
  },
  {
   "cell_type": "markdown",
   "metadata": {},
   "source": [
    "## 3\n",
    "For the probability distribution function for the random variable $X$,\n",
    "\n",
    "$f(x) = \\begin{cases}\n",
    "    \\frac{1}{3} & 0 < x < 3 \\\\\n",
    "    0           & \\text{otherwise}\n",
    "    \\end{cases}$\n",
    "    \n",
    "what is the (a) expected value and (b) variance of $X$. *Show all work*."
   ]
  },
  {
   "cell_type": "markdown",
   "metadata": {},
   "source": [
    "**ANSWER**\n",
    "\n",
    "(a) Expected value:\n",
    "\n",
    "$E(X) = \\int_{-\\infty}^{\\infty} xf(x) \\mathrm{d}x = \\int_\n",
    "{0}^{3} \\frac{1}{3}x\\mathrm{d}x = \\frac{1}{6} x^2 \\Big|_0^3 = \\frac{1}{6}\\times3^2 = \\frac{3}{2}$\n",
    "\n",
    "\n",
    "(b) Variance:\n",
    "\n",
    "$D(X) = E(X^2)-E(X)^2 = \\int_{-\\infty}^{\\infty} x^2f(x) \\mathrm{d}x - E(X)^2= \\int_{-\\infty}^{\\infty}x^2f(x)\\mathrm{d}x - E(X)^2 = \\int_{0}^{2}\\frac{1}{3}x^2\\mathrm{d}x - E(X)^2 = \\frac{1}{9}x^3\\Big|_0^3 - E(X)^2 = 3 - E(X)^2 = 3 - (\\frac{3}{2})^2 = \\frac{3}{4}$"
   ]
  },
  {
   "cell_type": "markdown",
   "metadata": {},
   "source": [
    "## 4\n",
    "Consider the following table of data that provides the values of a discrete data vector $\\mathbf{x}$ of samples from the random variable $X$, where each entry in $\\mathbf{x}$ is given as $x_i$.\n",
    "\n",
    "*Table 1. Dataset N=5 observations*\n",
    "\n",
    "|        | $x_0$ | $x_1$ | $x_2$ | $x_3$ | $x_4$ |\n",
    "|------  |-------|-------|-------|-------|-------|\n",
    "|$\\textbf{x}$| 2     | 3     | 10    | -1    | -1    |\n",
    "\n",
    "What is the (a) mean, (b) variance, and the  of the data? \n",
    "\n",
    "*Show all work. Your answer should include the definition of mean, median, and variance in the context of discrete data.*"
   ]
  },
  {
   "cell_type": "markdown",
   "metadata": {},
   "source": [
    "**ANSWER**\n",
    "\n",
    "(a) Mean\n",
    "\n",
    "Mean = $\\sum{x}{p_X(x)} = \\sum\\limits_{i=0}^4x_i{p_X(x_i)}=\\frac{1}{5}[2+3+10+(-1)+(-1)] = \\frac{13}{5}$\n",
    "\n",
    "\n",
    "(b) Variance\n",
    "\n",
    "Variance = $\\sum(x- \\mu)^2p_X(x) = \\sum\\limits_{i=0}^4(x_i-\\mu)^2p_X(x_i)= \\frac{1}{5}[(2-\\frac{13}{5})^2+(3-\\frac{13}{5})^2+(10-\\frac{13}{5})^2+(-1-\\frac{13}{5})^2+(-1-\\frac{13}{5})^2] = \\frac{406}{25}=16.24$"
   ]
  },
  {
   "cell_type": "markdown",
   "metadata": {},
   "source": [
    "## 5\n",
    "Review of counting from probability theory. \n",
    "\n",
    "(a) How many different 7-place license plates are possible if the first 3 places only contain letters and the last 4 only contain numbers?\n",
    "\n",
    "(b) How many different batting orders are possible for a baseball team with 9 players?\n",
    "\n",
    "(c) How many batting orders of 5 players are possible for a team with 9 players total?\n",
    "\n",
    "(d) Let's assume this class has 26 students and we want to form project teams. How many unique teams of 3 are possible?\n",
    "\n",
    "*Hint: For each problem, determine if order matters, and if it should be calculated with or without replacement.*"
   ]
  },
  {
   "cell_type": "markdown",
   "metadata": {},
   "source": [
    "**ANSWER**\n",
    "\n",
    "(a) 175760000\n",
    "\n",
    "$26^3\\times10^4 = 175760000$\n",
    "\n",
    "<br>\n",
    "\n",
    "(b) 362880\n",
    "\n",
    "$9! = 362880$\n",
    "\n",
    "<br>\n",
    "\n",
    "\n",
    "(c) 15120\n",
    "\n",
    "$P(9,5) = \\frac{9!}{(9-5)!} = 9\\times8\\times7\\times6\\times5 = 15120$\n",
    "\n",
    "<br>\n",
    "\n",
    "\n",
    "(d) 126\n",
    "\n",
    "$C(9,5) = \\frac{9!}{5!(9-5)!} = \\frac{9\\times8\\times7\\times6\\times5}{5\\times4\\times3\\times2\\times1} = 126$"
   ]
  },
  {
   "cell_type": "markdown",
   "metadata": {},
   "source": [
    "# Linear Algebra"
   ]
  },
  {
   "cell_type": "markdown",
   "metadata": {},
   "source": [
    "## 6\n",
    "**Matrix manipulations and multiplication**. Machine learning involves working with many matrices, so this exercise will provide you with the opportunity to practice those skills.\n",
    "\n",
    "Let\n",
    "$\\mathbf{A} =  \\begin{bmatrix}\n",
    "1 & 2 & 3 \\\\\n",
    "2 & 4 & 5 \\\\\n",
    "3 & 5 & 6 \n",
    "\\end{bmatrix}$, $\\mathbf{b} =  \\begin{bmatrix}\n",
    "-1  \\\\\n",
    "3  \\\\\n",
    "8  \n",
    "\\end{bmatrix}$, $\\mathbf{c} =  \\begin{bmatrix}\n",
    "4  \\\\\n",
    "-3  \\\\\n",
    "6  \n",
    "\\end{bmatrix}$, and $\\mathbf{I} =  \\begin{bmatrix}\n",
    "1 & 0 & 0 \\\\\n",
    "0 & 1 & 0 \\\\\n",
    "0 & 0 & 1 \n",
    "\\end{bmatrix}$\n",
    "\n",
    "Compute the following or indicate that it cannot be computed:\n",
    "\n",
    "1. $\\mathbf{A}\\mathbf{A}$\n",
    "2. $\\mathbf{A}\\mathbf{A}^T$\n",
    "3. $\\mathbf{A}\\mathbf{b}$\n",
    "4. $\\mathbf{A}\\mathbf{b}^T$\n",
    "5. $\\mathbf{b}\\mathbf{A}$\n",
    "6. $\\mathbf{b}^T\\mathbf{A}$\n",
    "7. $\\mathbf{b}\\mathbf{b}$\n",
    "8. $\\mathbf{b}^T\\mathbf{b}$\n",
    "9. $\\mathbf{b}\\mathbf{b}^T$\n",
    "10. $\\mathbf{b} + \\mathbf{c}^T$\n",
    "11. $\\mathbf{b}^T\\mathbf{b}^T$\n",
    "12. $\\mathbf{A}^{-1}\\mathbf{b}$\n",
    "13. $\\mathbf{A}\\circ\\mathbf{A}$\n",
    "14. $\\mathbf{b}\\circ\\mathbf{c}$\n",
    "\n",
    "*Note: The element-wise (or Hadamard) product is the product of each element in one matrix with the corresponding element in another matrix, and is represented by the symbol \"$\\circ$\".*"
   ]
  },
  {
   "cell_type": "markdown",
   "metadata": {},
   "source": [
    "**ANSWER**\n",
    "\n",
    "1.\n",
    "$\\mathbf{A}\\mathbf{A} = \\begin{bmatrix}\n",
    "14 & 25 & 31 \\\\\n",
    "25 & 45 & 56 \\\\\n",
    "31 & 56 & 70 \\\\\n",
    "\\end{bmatrix}$\n",
    "\n",
    "2.\n",
    "$\\mathbf{A}\\mathbf{A}^T = \\begin{bmatrix}\n",
    "14 & 25 & 31 \\\\\n",
    "25 & 45 & 56 \\\\\n",
    "31 & 56 & 70 \\\\\n",
    "\\end{bmatrix}$\n",
    "\n",
    "3.\n",
    "$\\mathbf{A}\\mathbf{b} = \\begin{bmatrix}\n",
    "29\\\\\n",
    "50\\\\\n",
    "60\\\\\n",
    "\\end{bmatrix}$\n",
    "\n",
    "4.\n",
    "$\\mathbf{A}\\mathbf{b}^T$ cannnot be computed\n",
    "\n",
    "5.\n",
    "$\\mathbf{b}\\mathbf{A}$ cannnot be computed\n",
    "\n",
    "6.\n",
    "$\\mathbf{b}^T\\mathbf{A} = \\begin{bmatrix}\n",
    "29 & 50 &60 \\\\\n",
    "\\end{bmatrix}$ \n",
    "\n",
    "7.\n",
    "$\\mathbf{b}\\mathbf{b}$ cannnot be computed\n",
    "\n",
    "8.\n",
    "$\\mathbf{b}^T\\mathbf{b} = \\begin{bmatrix}\n",
    "74\n",
    "\\end{bmatrix}$ \n",
    "\n",
    "9.\n",
    "$\\mathbf{b}\\mathbf{b}^T = \\begin{bmatrix}\n",
    "1 & -3 & -8\\\\\n",
    "-3 & 9 & 24\\\\\n",
    "-8 & 24 & 64\\\\\n",
    "\\end{bmatrix}$\n",
    "\n",
    "10.\n",
    "$\\mathbf{b} + \\mathbf{c}^T$ cannnot be computed\n",
    "\n",
    "11.\n",
    "$\\mathbf{b}^T\\mathbf{b}^T$ cannnot be computed\n",
    "\n",
    "12.\n",
    "$\\mathbf{A}^{-1}\\mathbf{b} = \\begin{bmatrix}\n",
    "1 & -3 & 2\\\\\n",
    "-3 & 3 & -1\\\\\n",
    "2 & -1 & 0\\\\\n",
    "\\end{bmatrix}\n",
    "\\begin{bmatrix}\n",
    "-1\\\\\n",
    "3\\\\\n",
    "8\\\\\n",
    "\\end{bmatrix} =\n",
    "\\begin{bmatrix}\n",
    "6\\\\\n",
    "4\\\\\n",
    "-5\\\\\n",
    "\\end{bmatrix}$\n",
    "\n",
    "13.\n",
    "$\\mathbf{A}\\circ\\mathbf{A} = \\begin{bmatrix}\n",
    "1 & 4 & 9\\\\\n",
    "4 & 16 & 25\\\\\n",
    "9 & 25 & 36\\\\\n",
    "\\end{bmatrix}$\n",
    "\n",
    "14.\n",
    "$\\mathbf{b}\\circ\\mathbf{c} = \\begin{bmatrix}\n",
    "-4\\\\\n",
    "-9\\\\\n",
    "48\\\\\n",
    "\\end{bmatrix}$"
   ]
  },
  {
   "cell_type": "markdown",
   "metadata": {},
   "source": [
    "## 6\n",
    "**Eigenvectors and eigenvalues**. Eigenvectors and eigenvalues are useful for some machine learning algorithms, but the concepts take time to solidly grasp. For an intuitive review of these concepts, explore this [interactive website at Setosa.io](http://setosa.io/ev/eigenvectors-and-eigenvalues/). Also, the series of linear algebra videos by Grant Sanderson of 3Brown1Blue are excellent and can be viewed on youtube [here](https://www.youtube.com/playlist?list=PLZHQObOWTQDPD3MizzM2xVFitgF8hE_ab).\n",
    "\n",
    "1. Calculate the eigenvalues and corresponding eigenvectors of matrix $\\mathbf{A}$ above, from the last question.\n",
    "2. Choose one of the eigenvector/eigenvalue pairs, $\\mathbf{v}$ and $\\lambda$, and show that $\\mathbf{A} \\mathbf{v} = \\lambda \\mathbf{v}$. Also show that this relationship extends to higher orders: $\\mathbf{A} \\mathbf{A} \\mathbf{v} = \\lambda^2 \\mathbf{v}$\n",
    "3. Show that the eigenvectors are orthogonal to one another (e.g. their inner product is zero). This is true for real, symmetric matrices."
   ]
  },
  {
   "cell_type": "markdown",
   "metadata": {},
   "source": [
    "**ANSWER**\n",
    "\n",
    "1.\n",
    "\n",
    "$\\lambda_1 = -0.516, v_1 = \\begin{bmatrix}\n",
    "-1.247\\\\\n",
    "-0.555\\\\\n",
    "1\\\\\n",
    "\\end{bmatrix}$\n",
    "\n",
    "$\\lambda_2 = 0.171, v_2 = \\begin{bmatrix}\n",
    "1.802\\\\\n",
    "-2.247\\\\\n",
    "1\\\\\n",
    "\\end{bmatrix}$\n",
    "\n",
    "$\\lambda_3 = 11.345, v_3 = \\begin{bmatrix}\n",
    "0.445\\\\\n",
    "0.802\\\\\n",
    "1\\\\\n",
    "\\end{bmatrix}$\n"
   ]
  },
  {
   "cell_type": "markdown",
   "metadata": {},
   "source": [
    "# Numerical Programming"
   ]
  },
  {
   "cell_type": "markdown",
   "metadata": {},
   "source": [
    "## 7\n",
    "Speed comparison between vectorized and non-vectorized code. Begin by creating an array of 10 million random numbers using the numpy random.randn module. Compute the sum of the squares first in a for loop, then using Numpy's `dot` module. Time how long it takes to compute each and report the results and report the output. How many times faster is the vectorized code than the for loop approach?\n",
    "\n",
    "*Note: all code should be well commented, properly formatted, and your answers should be output using the `print()` function as follows (where the # represents your answers, to a reasonable precision):\n",
    "\n",
    "`Time [sec] (non-vectorized): ######`\n",
    "\n",
    "`Time [sec] (vectorized):     ######`\n",
    "\n",
    "`The vectorized code is ##### times faster than the vectorized code`"
   ]
  },
  {
   "cell_type": "markdown",
   "metadata": {},
   "source": [
    "**ANSWER**"
   ]
  },
  {
   "cell_type": "code",
   "execution_count": 293,
   "metadata": {
    "collapsed": false
   },
   "outputs": [
    {
     "name": "stdout",
     "output_type": "stream",
     "text": [
      "Time [sec] (non-vectorized): 5.806\n",
      "\n",
      "Time [sec] (vectorized): 0.026\n",
      "\n",
      "The vectorized code is 224.9 times faster than the vectorized code\n"
     ]
    }
   ],
   "source": [
    "import numpy as np\n",
    "import time\n",
    "\n",
    "# Generate the random samples\n",
    "np.random.seed(20121225) #Set the seed to make the vector generated consistent\n",
    "vector = np.random.randn(1000,10000)\n",
    "\n",
    "# Compute the sum of squares the non-vectorized way (using a for loop)\n",
    "time_start1 = time.clock()\n",
    "sum1 = 0\n",
    "for i in np.nditer(vector): #Iterate through each element in the array\n",
    "    sum1 = sum1 + float(i)**2 #Sum the square of each element\n",
    "time_elapsed1 = (time.clock() - time_start1)\n",
    "\n",
    "# Compute the sum of squares the vectorized way (using numpy)\n",
    "time_start2 = time.clock()\n",
    "onevector = vector.ravel() #Turn the vector into an one-dimension array \n",
    "sum2 = np.dot(onevector,onevector) #Sum the square of each element using sum product of each element multiply itself\n",
    "time_elapsed2 = (time.clock() - time_start2)\n",
    "\n",
    "# Print the results\n",
    "print('Time [sec] (non-vectorized): {:.3f}'.format(time_elapsed1))\n",
    "print('')\n",
    "print('Time [sec] (vectorized): {:.3f}'.format(time_elapsed2))\n",
    "print('')\n",
    "print('The vectorized code is {:.1f} times faster than the vectorized code'.format(time_elapsed1/time_elapsed2))"
   ]
  },
  {
   "cell_type": "markdown",
   "metadata": {},
   "source": [
    "## 8\n",
    "One popular Agile development framework is Scrum (a paradigm recommended for data science projects). It emphasizes the continual evolution of code for projects, becoming progressively better, but starting with a quickly developed minimum viable product. This often means that code written early on is not optimized, and that's a good thing - it's best to get it to work first before optimizing. Imagine that you wrote the following code during a sprint towards getting an end-to-end system working. Vectorize the following code and show the difference in speed between the current implementation and a vectorized version.\n",
    "\n",
    "The function below computes the function $f(x,y) = x^2 - 2 y^2$ and determines whether this quantity is above or below a given threshold, `thresh=0`. This is done for $x,y \\in \\{-4,4\\}$, over a 2,000-by-2,000 grid covering that domain.\n",
    "\n",
    "(a) Vectorize this code and demonstrate (as in the last exercise) the speed increase through vectorization and (b) plot the resulting data - both the function $f(x,y)$ and the thresholded output - using [`imshow`](https://matplotlib.org/api/_as_gen/matplotlib.pyplot.imshow.html?highlight=matplotlib%20pyplot%20imshow#matplotlib.pyplot.imshow) from `matplotlib`.\n",
    "\n",
    "*Hint: look at the `numpy` [`meshgrid`](https://docs.scipy.org/doc/numpy-1.13.0/reference/generated/numpy.meshgrid.html) documentation*"
   ]
  },
  {
   "cell_type": "code",
   "execution_count": 294,
   "metadata": {
    "collapsed": false
   },
   "outputs": [
    {
     "name": "stdout",
     "output_type": "stream",
     "text": [
      "Time [sec] (non-vectorized): 268.275\n",
      "\n",
      "Time [sec] (vectorized): 0.091\n",
      "\n",
      "The vectorized code is 2938.8 times faster than the vectorized code\n"
     ]
    },
    {
     "data": {
      "image/png": "[encoded data removed]",
      "text/plain": [
       "<matplotlib.figure.Figure at 0x7f8d74671a58>"
      ]
     },
     "metadata": {},
     "output_type": "display_data"
    },
    {
     "data": {
      "image/png": "[encoded data removed]",
      "text/plain": [
       "<matplotlib.figure.Figure at 0x7f8d73c92550>"
      ]
     },
     "metadata": {},
     "output_type": "display_data"
    }
   ],
   "source": [
    "import numpy as np\n",
    "import time\n",
    "import matplotlib.pyplot as plt\n",
    "\n",
    "# Initialize variables for this exerise\n",
    "x = np.linspace(-4,4,2000)\n",
    "y = np.linspace(-4,4,2000)\n",
    "\n",
    "# Nonvectorized implementation\n",
    "thre1 = np.zeros(shape=(2000,))\n",
    "grid1 = np.zeros(shape=(2000,))\n",
    "ind1 = np.arange(len(thre1))\n",
    "ind2 = np.arange(len(grid1))\n",
    "time_start3 = time.clock()\n",
    "for i in x:\n",
    "    for j in y:\n",
    "        func = i**2-2*j**2\n",
    "        if func>0:\n",
    "            np.put(thre1,ind1,func)\n",
    "            np.put(grid1,ind2,1)\n",
    "        else:\n",
    "            np.put(thre1,ind1,func)\n",
    "            np.put(grid1,ind2,0)\n",
    "time_elapsed3 = (time.clock() - time_start3)\n",
    "\n",
    "# Vectorized implementation\n",
    "def threshold(x,y):\n",
    "    '''A function to determine whether x**2-2*y**2 is larget than 0'''\n",
    "    return x**2-2*y**2 >0\n",
    "    \n",
    "def result(x,y):\n",
    "    '''A function to return the value of x**2-2*y**2'''\n",
    "    z = x**2-2*y**2\n",
    "    return z\n",
    "time_start4 = time.clock()\n",
    "X,Y = np.meshgrid(x, y)\n",
    "Z1 = threshold(X, Y)\n",
    "Z2 = result(X, Y)\n",
    "time_elapsed4 = (time.clock() - time_start4)\n",
    "\n",
    "# Print the time for each and the speed increase\n",
    "print('Time [sec] (non-vectorized): {:.3f}'.format(time_elapsed3))\n",
    "print('')\n",
    "print('Time [sec] (vectorized): {:.3f}'.format(time_elapsed4))\n",
    "print('')\n",
    "print('The vectorized code is {:.1f} times faster than the vectorized code'.format(time_elapsed3/time_elapsed4))\n",
    "\n",
    "# Plot the result\n",
    "fig = plt.figure()\n",
    "plt.imshow(Z1)\n",
    "plt.title(\"Threshold output\")\n",
    "plt.show()\n",
    "plt.imshow(Z2)\n",
    "plt.title(\"Calculation results output\")\n",
    "plt.show()"
   ]
  },
  {
   "cell_type": "markdown",
   "metadata": {},
   "source": [
    "## 9\n",
    "This exercise will walk through some basic numerical programming exercises.\n",
    "1. Synthesize $n=10^4$ normally distributed data points with mean $\\mu=2$ and a standard deviation of $\\sigma=1$. Call these observations from a random variable $X$, and call the vector of observations that you generate, $\\textbf{x}$.\n",
    "2. Calculate the mean and standard deviation of $\\textbf{x}$ to validate (1) and provide the result to a precision of four significant figures.\n",
    "3. Plot a histogram of the data in $\\textbf{x}$ with 30 bins\n",
    "4. What is the 90th percentile of $\\textbf{x}$? The 90th percentile is the value below which 90% of observations can be found.\n",
    "5. What is the 99th percentile of $\\textbf{x}$?\n",
    "6. Now synthesize $n=10^4$ normally distributed data points with mean $\\mu=0$ and a standard deviation of $\\sigma=3$. Call these observations from a random variable $Y$, and call the vector of observations that you generate, $\\textbf{y}$.\n",
    "7. Plot the histogram of the data in $\\textbf{y}$ on a (new) plot with the histogram of $\\textbf{x}$, so that both histograms can be seen and compared.\n",
    "8. Using the observations from $\\textbf{x}$ and $\\textbf{y}$, estimate $E[XY]$"
   ]
  },
  {
   "cell_type": "markdown",
   "metadata": {},
   "source": [
    "**ANSWER**"
   ]
  },
  {
   "cell_type": "code",
   "execution_count": 295,
   "metadata": {
    "collapsed": false
   },
   "outputs": [
    {
     "name": "stdout",
     "output_type": "stream",
     "text": [
      "1.\n",
      "The vector of observations is [ 2.28037732  1.79223221  1.40174078 ...,  1.62293931  0.93385438\n",
      "  4.17615487]\n",
      "\n",
      "2. \n",
      "Mean of x is 1.990\n",
      "Standard deviation of x is 1.009\n",
      "\n",
      "3.\n"
     ]
    },
    {
     "data": {
      "image/png": "[encoded data removed]",
      "text/plain": [
       "<matplotlib.figure.Figure at 0x7f8d71bc6d68>"
      ]
     },
     "metadata": {},
     "output_type": "display_data"
    },
    {
     "name": "stdout",
     "output_type": "stream",
     "text": [
      "\n",
      "4.\n",
      "The 90th percentile of x is 3.28644262552\n",
      "\n",
      "5.\n",
      "The 99th percentile of x is 4.31555405025\n",
      "\n",
      "6.\n",
      "The vector of observations is [ 0.84113196 -0.62330336 -1.79477765 ..., -1.13118206 -3.19843687\n",
      "  6.5284646 ]\n",
      "\n",
      "7. As is shown in the end\n",
      "\n",
      "8.\n",
      "As X and Y are independent variables, the estimate of E(XY) is E(XY) = E(X)E(Y) = 1.990*-0.031 = -0.062\n"
     ]
    },
    {
     "data": {
      "image/png": "[encoded data removed]",
      "text/plain": [
       "<matplotlib.figure.Figure at 0x7f8d71e96b38>"
      ]
     },
     "metadata": {},
     "output_type": "display_data"
    }
   ],
   "source": [
    "# 1\n",
    "np.random.seed(409)\n",
    "x = np.random.normal(2, 1, 10000)\n",
    "print('1.\\nThe vector of observations is',x)\n",
    "print('')\n",
    "\n",
    "# 2\n",
    "mean = np.mean(x)\n",
    "sd = np.std(x)\n",
    "print('2.','\\nMean of x is {:.3f}'.format(mean))\n",
    "print('Standard deviation of x is {:.3f}'.format(sd))\n",
    "print('')\n",
    "\n",
    "# 3\n",
    "print('3.')\n",
    "plt.hist(x, bins=30)\n",
    "plt.title(\"Histogram of x with 30 bins\")\n",
    "plt.show()\n",
    "print('')\n",
    "\n",
    "# 4\n",
    "print('4.')\n",
    "q90= np.percentile(x, 90)\n",
    "print('The 90th percentile of x is',q90)\n",
    "print('')\n",
    "\n",
    "# 5\n",
    "print('5.')\n",
    "q99= np.percentile(x, 99)\n",
    "print('The 99th percentile of x is',q99)\n",
    "print('')\n",
    "\n",
    "# 6\n",
    "np.random.seed(409)\n",
    "y = np.random.normal(0, 3, 10000)\n",
    "print('6.\\nThe vector of observations is',y)\n",
    "print('')\n",
    "\n",
    "# 7\n",
    "print('7. As is shown in the end')\n",
    "kw = dict(bins=20, histtype='step', fill=True)\n",
    "plt.hist(x, fc=(.14,.57,.14,.4), ec=(.14,.57,.14, 1), **kw)\n",
    "plt.hist(y, fc=(.16,.16,1.0,.4), ec=(.16,.16,1.0, 1), **kw)\n",
    "print('')\n",
    "\n",
    "# 8\n",
    "print('8.\\nAs X and Y are independent variables, the estimate of E(XY) is E(XY) = E(X)E(Y) = {:.3f}*{:.3f} = {:.3f}'.format(np.mean(x),np.mean(y),np.mean(x)*np.mean(y)))"
   ]
  },
  {
   "cell_type": "markdown",
   "metadata": {},
   "source": [
    "## 10\n",
    "Estimate the integral of the function $f(x)$ on the interval $0\\leq x < 2.5$ assuming we only know the following points from $f$:\n",
    "\n",
    "*Table 1. Dataset containing n=5 observations*\n",
    "\n",
    "| $x_i$ | 0.0 | 0.5 | 1.0 | 1.5 | 2.0 |\n",
    "|-|-|-|-|-|-|\n",
    "| $y_i$ | 6 | 7 | 8 | 4 | 1 |\n"
   ]
  },
  {
   "cell_type": "markdown",
   "metadata": {},
   "source": [
    "**ANSWER**\n",
    "\n",
    "13 as it is computed below."
   ]
  },
  {
   "cell_type": "code",
   "execution_count": 296,
   "metadata": {
    "collapsed": false
   },
   "outputs": [
    {
     "data": {
      "text/plain": [
       "13.0"
      ]
     },
     "execution_count": 296,
     "metadata": {},
     "output_type": "execute_result"
    }
   ],
   "source": [
    "x = [0,0.5,1,1.5,2]\n",
    "y = [6,7,8,4,1]\n",
    "f = 0\n",
    "a = 0.5\n",
    "for i in y: \n",
    "    f = f + a*i\n",
    "f"
   ]
  },
  {
   "cell_type": "markdown",
   "metadata": {
    "collapsed": true
   },
   "source": [
    "# Version Control via Git"
   ]
  },
  {
   "cell_type": "markdown",
   "metadata": {},
   "source": [
    "## 11\n",
    "Complete the [Atlassian Git tutorial](https://www.atlassian.com/git/tutorials/what-is-version-control), specifically the following sections. Try each concept that's presented. For this tutorial, instead of using BitBucket, use Github. Create a github account here if you don't already have one: https://github.com/\n",
    "1. [What is version control](https://www.atlassian.com/git/tutorials/what-is-version-control)\n",
    "2. [What is Git](https://www.atlassian.com/git/tutorials/what-is-git)\n",
    "3. [Install Git](https://www.atlassian.com/git/tutorials/install-git)\n",
    "4. [Setting up a repository](https://www.atlassian.com/git/tutorials/install-git)\n",
    "5. [Saving changes](https://www.atlassian.com/git/tutorials/saving-changes)\n",
    "6. [Inspecting a repository](https://www.atlassian.com/git/tutorials/inspecting-a-repository)\n",
    "7. [Undoing changes](https://www.atlassian.com/git/tutorials/undoing-changes)\n",
    "8. [Rewriting history](https://www.atlassian.com/git/tutorials/rewriting-history)\n",
    "9. [Syncing](https://www.atlassian.com/git/tutorials/syncing)\n",
    "10. [Making a pull request](https://www.atlassian.com/git/tutorials/making-a-pull-request)\n",
    "11. [Using branches](https://www.atlassian.com/git/tutorials/using-branches)\n",
    "12. [Comparing workflows](https://www.atlassian.com/git/tutorials/comparing-workflows)\n",
    "\n",
    "For your answer, affirm that you either completed the tutorial or have previous experience with all of the concepts above. Do this by typing your name below and selecting the situation that applies from the two options in brackets."
   ]
  },
  {
   "cell_type": "markdown",
   "metadata": {},
   "source": [
    "**ANSWER**\n",
    "\n",
    "*I, [Zhuangdie Alan Zhou], affirm that I have [**completed the above tutorial**]*"
   ]
  },
  {
   "cell_type": "markdown",
   "metadata": {},
   "source": [
    "## 12\n",
    "Using Github to create a static HTML website:\n",
    "1. Create a branch in your `machine-learning-course` repo called \"gh-pages\" and checkout that branch (this will provide an example of how to create a simple static website using [Github Pages](https://pages.github.com/))\n",
    "2. Create a file called \"index.html\" with the contents \"Hello World\" and add, commit, and push it to that branch.\n",
    "3. Submit the following: (a) a link to your github repository and (b) a link to your new \"Hello World\" website. The latter should be at the address https://[USERNAME].github.io/ECE590-assignment0 (where [USERNAME] is your github username)."
   ]
  },
  {
   "cell_type": "markdown",
   "metadata": {},
   "source": [
    "**ANSWER**\n",
    "\n",
    "(a) Link to your github repository: https://github.com/zz161/ECE590-assignment0\n",
    "\n",
    "(b) a link to your new \"Hello World\" website: https://zz161.github.io/ECE590-assignment0/\n",
    "\n"
   ]
  },
  {
   "cell_type": "markdown",
   "metadata": {
    "collapsed": true
   },
   "source": [
    "# Exploratory Data Analysis\n",
    "## 13\n",
    "Here you'll bring together some of the individual skills that you demonstrated above and create a Jupyter notebook based blog post on data analysis.\n",
    "\n",
    "1. Find a dataset that interests you and relates to a question or problem that you find intriguing\n",
    "2. Using a Jupyter notebook, describe the dataset, the source of the data, and the reason the dataset was of interest.\n",
    "3. Check the data and see if they need to be cleaned: are there missing values? Are there clearly erroneous values? Do two tables need to be merged together? Clean the data so it can be visualized.\n",
    "3. Plot the data, demonstrating interesting features that you discover. Are there any relationships between variables that were surprising or patterns that emerged? Please exercise creativity and curiosity in your plots.\n",
    "4. What insights are you able to take away from exploring the data? Is there a reason why analyzing the dataset you chose is particularly interesting or important? Summarize this as if your target audience was the readership of a major news organization - boil down your findings in a way that is accessible, but still accurate.\n",
    "5. Create a public repository on your github account titled \"machine-learning-course\". In it, create a readme file that contains the heading \"ECE590: Introductory Machine Learning for Data Science\". Add, commit, and push that Jupyter notebook to the master branch. Provide the link to the that post here."
   ]
  },
  {
   "cell_type": "markdown",
   "metadata": {},
   "source": [
    "**ANSWER**\n",
    "\n",
    "https://github.com/zz161/Maching-Learning-Course/blob/master/Analysis%2Bof%2Bhomicide%2Bdata%2Bin%2BUS.ipynb"
   ]
  },
  {
   "cell_type": "code",
   "execution_count": null,
   "metadata": {
    "collapsed": true
   },
   "outputs": [],
   "source": []
  }
 ],
 "metadata": {
  "kernelspec": {
   "display_name": "Python 3",
   "language": "python",
   "name": "python3"
  },
  "language_info": {
   "codemirror_mode": {
    "name": "ipython",
    "version": 3
   },
   "file_extension": ".py",
   "mimetype": "text/x-python",
   "name": "python",
   "nbconvert_exporter": "python",
   "pygments_lexer": "ipython3",
   "version": "3.5.2"
  }
 },
 "nbformat": 4,
 "nbformat_minor": 2
}
